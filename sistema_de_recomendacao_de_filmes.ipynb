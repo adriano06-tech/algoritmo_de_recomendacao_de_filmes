{
  "nbformat": 4,
  "nbformat_minor": 0,
  "metadata": {
    "kernelspec": {
      "display_name": "Python 3",
      "language": "python",
      "name": "python3"
    },
    "language_info": {
      "codemirror_mode": {
        "name": "ipython",
        "version": 3
      },
      "file_extension": ".py",
      "mimetype": "text/x-python",
      "name": "python",
      "nbconvert_exporter": "python",
      "pygments_lexer": "ipython3",
      "version": "3.8.5"
    },
    "colab": {
      "name": "sistema_de_recomendacao_de_filmes.ipynb",
      "provenance": [],
      "include_colab_link": true
    }
  },
  "cells": [
    {
      "cell_type": "markdown",
      "metadata": {
        "id": "view-in-github",
        "colab_type": "text"
      },
      "source": [
        "<a href=\"https://colab.research.google.com/github/adriano06-tech/algoritmo_de_recomendacao_de_filmes/blob/main/sistema_de_recomendacao_de_filmes.ipynb\" target=\"_parent\"><img src=\"https://colab.research.google.com/assets/colab-badge.svg\" alt=\"Open In Colab\"/></a>"
      ]
    },
    {
      "cell_type": "markdown",
      "metadata": {
        "id": "l1nHGsP1suPX"
      },
      "source": [
        "# Entendendo o projeto"
      ]
    },
    {
      "cell_type": "markdown",
      "metadata": {
        "id": "kWBMS1_osuPc"
      },
      "source": [
        "## Dados"
      ]
    },
    {
      "cell_type": "markdown",
      "metadata": {
        "id": "PzQTZ_Q6suPd"
      },
      "source": [
        "Para esse projeto de criar um sistema de recomendação usaremos os dados do <a href=\"https://grouplens.org/datasets/movielens/\">MovieLens</a>. Para termos melhor performance utilizaremos primeiramente o conjunto de dados menor."
      ]
    },
    {
      "cell_type": "markdown",
      "metadata": {
        "id": "Kfy-8943suPe"
      },
      "source": [
        "## Ideia do algoritmo"
      ]
    },
    {
      "cell_type": "markdown",
      "metadata": {
        "id": "7YDaKdqLsuPf"
      },
      "source": [
        "Criaremos uma versão do algoritmo <a href=\"https://en.wikipedia.org/wiki/K-nearest_neighbors_algorithm\">KNN - (k-nearest neighbors)</a> procurando usuários com um perfil próximo do nosso usuário."
      ]
    },
    {
      "cell_type": "markdown",
      "metadata": {
        "id": "KVgBojwusuPf"
      },
      "source": [
        "# Importando bibliotecas que utilizaremos"
      ]
    },
    {
      "cell_type": "code",
      "metadata": {
        "colab": {
          "base_uri": "https://localhost:8080/"
        },
        "id": "Dx9l1pRVsuPg",
        "outputId": "a8996528-9c80-44f0-b50d-fccb02af521a"
      },
      "source": [
        "import pandas as pd\n",
        "import numpy as np\n",
        "SEED = 101\n",
        "np.random.seed(SEED)\n",
        "import matplotlib.pyplot as plt\n",
        "import seaborn as sns\n",
        "sns.set(rc = {'figure.figsize': (12, 6)})\n",
        "print('As bibliotecas foram importadas com sucesso')"
      ],
      "execution_count": 1,
      "outputs": [
        {
          "output_type": "stream",
          "text": [
            "As bibliotecas foram importadas com sucesso\n"
          ],
          "name": "stdout"
        }
      ]
    },
    {
      "cell_type": "markdown",
      "metadata": {
        "id": "9gO-vS17suPi"
      },
      "source": [
        "# Conhecendo os dados do movielens"
      ]
    },
    {
      "cell_type": "markdown",
      "metadata": {
        "id": "avvC0Uz1suPj"
      },
      "source": [
        "Os nossos dados estão separados entre um dataset dos filmes, e outro dataset de todos os votos"
      ]
    },
    {
      "cell_type": "markdown",
      "metadata": {
        "id": "byRRWhyvsuPk"
      },
      "source": [
        "## Dataset dos filmes"
      ]
    },
    {
      "cell_type": "code",
      "metadata": {
        "colab": {
          "base_uri": "https://localhost:8080/",
          "height": 204
        },
        "id": "bCbCeFt2suPk",
        "outputId": "c8b8d658-3ff1-4cbc-ef79-da31ba8835d8"
      },
      "source": [
        "movies = pd.read_csv('https://raw.githubusercontent.com/adriano06-tech/algoritmo_de_recomendacao_de_filmes/main/data/movielens/movies.csv')\n",
        "movies.head()"
      ],
      "execution_count": 2,
      "outputs": [
        {
          "output_type": "execute_result",
          "data": {
            "text/html": [
              "<div>\n",
              "<style scoped>\n",
              "    .dataframe tbody tr th:only-of-type {\n",
              "        vertical-align: middle;\n",
              "    }\n",
              "\n",
              "    .dataframe tbody tr th {\n",
              "        vertical-align: top;\n",
              "    }\n",
              "\n",
              "    .dataframe thead th {\n",
              "        text-align: right;\n",
              "    }\n",
              "</style>\n",
              "<table border=\"1\" class=\"dataframe\">\n",
              "  <thead>\n",
              "    <tr style=\"text-align: right;\">\n",
              "      <th></th>\n",
              "      <th>movieId</th>\n",
              "      <th>title</th>\n",
              "      <th>genres</th>\n",
              "    </tr>\n",
              "  </thead>\n",
              "  <tbody>\n",
              "    <tr>\n",
              "      <th>0</th>\n",
              "      <td>1</td>\n",
              "      <td>Toy Story (1995)</td>\n",
              "      <td>Adventure|Animation|Children|Comedy|Fantasy</td>\n",
              "    </tr>\n",
              "    <tr>\n",
              "      <th>1</th>\n",
              "      <td>2</td>\n",
              "      <td>Jumanji (1995)</td>\n",
              "      <td>Adventure|Children|Fantasy</td>\n",
              "    </tr>\n",
              "    <tr>\n",
              "      <th>2</th>\n",
              "      <td>3</td>\n",
              "      <td>Grumpier Old Men (1995)</td>\n",
              "      <td>Comedy|Romance</td>\n",
              "    </tr>\n",
              "    <tr>\n",
              "      <th>3</th>\n",
              "      <td>4</td>\n",
              "      <td>Waiting to Exhale (1995)</td>\n",
              "      <td>Comedy|Drama|Romance</td>\n",
              "    </tr>\n",
              "    <tr>\n",
              "      <th>4</th>\n",
              "      <td>5</td>\n",
              "      <td>Father of the Bride Part II (1995)</td>\n",
              "      <td>Comedy</td>\n",
              "    </tr>\n",
              "  </tbody>\n",
              "</table>\n",
              "</div>"
            ],
            "text/plain": [
              "   movieId  ...                                       genres\n",
              "0        1  ...  Adventure|Animation|Children|Comedy|Fantasy\n",
              "1        2  ...                   Adventure|Children|Fantasy\n",
              "2        3  ...                               Comedy|Romance\n",
              "3        4  ...                         Comedy|Drama|Romance\n",
              "4        5  ...                                       Comedy\n",
              "\n",
              "[5 rows x 3 columns]"
            ]
          },
          "metadata": {
            "tags": []
          },
          "execution_count": 2
        }
      ]
    },
    {
      "cell_type": "code",
      "metadata": {
        "colab": {
          "base_uri": "https://localhost:8080/"
        },
        "id": "q1DRNccYsuPl",
        "outputId": "f947eb2e-f18e-4256-dc6f-a341a5f0b0e7"
      },
      "source": [
        "print(f'Temos {movies.shape[0]} linhas e {movies.shape[1]} colunas')"
      ],
      "execution_count": 3,
      "outputs": [
        {
          "output_type": "stream",
          "text": [
            "Temos 9742 linhas e 3 colunas\n"
          ],
          "name": "stdout"
        }
      ]
    },
    {
      "cell_type": "code",
      "metadata": {
        "colab": {
          "base_uri": "https://localhost:8080/"
        },
        "id": "_xl8VRSGsuPm",
        "outputId": "be6effd4-e95f-46d0-c0df-4576e3543809"
      },
      "source": [
        "print(f'Temos {movies.isna().sum().sum()} dados nulos')"
      ],
      "execution_count": 4,
      "outputs": [
        {
          "output_type": "stream",
          "text": [
            "Temos 0 dados nulos\n"
          ],
          "name": "stdout"
        }
      ]
    },
    {
      "cell_type": "markdown",
      "metadata": {
        "id": "rR8qcnltsuPm"
      },
      "source": [
        "Vamos transformar o id do filme como índice para facilitar a usarmos esse dataset"
      ]
    },
    {
      "cell_type": "code",
      "metadata": {
        "colab": {
          "base_uri": "https://localhost:8080/",
          "height": 235
        },
        "id": "8RVJ-JfGsuPn",
        "outputId": "5df01995-9bb7-4b2c-855e-afd931f88bc4"
      },
      "source": [
        "movies.set_index('movieId', inplace = True)\n",
        "movies.head()"
      ],
      "execution_count": 5,
      "outputs": [
        {
          "output_type": "execute_result",
          "data": {
            "text/html": [
              "<div>\n",
              "<style scoped>\n",
              "    .dataframe tbody tr th:only-of-type {\n",
              "        vertical-align: middle;\n",
              "    }\n",
              "\n",
              "    .dataframe tbody tr th {\n",
              "        vertical-align: top;\n",
              "    }\n",
              "\n",
              "    .dataframe thead th {\n",
              "        text-align: right;\n",
              "    }\n",
              "</style>\n",
              "<table border=\"1\" class=\"dataframe\">\n",
              "  <thead>\n",
              "    <tr style=\"text-align: right;\">\n",
              "      <th></th>\n",
              "      <th>title</th>\n",
              "      <th>genres</th>\n",
              "    </tr>\n",
              "    <tr>\n",
              "      <th>movieId</th>\n",
              "      <th></th>\n",
              "      <th></th>\n",
              "    </tr>\n",
              "  </thead>\n",
              "  <tbody>\n",
              "    <tr>\n",
              "      <th>1</th>\n",
              "      <td>Toy Story (1995)</td>\n",
              "      <td>Adventure|Animation|Children|Comedy|Fantasy</td>\n",
              "    </tr>\n",
              "    <tr>\n",
              "      <th>2</th>\n",
              "      <td>Jumanji (1995)</td>\n",
              "      <td>Adventure|Children|Fantasy</td>\n",
              "    </tr>\n",
              "    <tr>\n",
              "      <th>3</th>\n",
              "      <td>Grumpier Old Men (1995)</td>\n",
              "      <td>Comedy|Romance</td>\n",
              "    </tr>\n",
              "    <tr>\n",
              "      <th>4</th>\n",
              "      <td>Waiting to Exhale (1995)</td>\n",
              "      <td>Comedy|Drama|Romance</td>\n",
              "    </tr>\n",
              "    <tr>\n",
              "      <th>5</th>\n",
              "      <td>Father of the Bride Part II (1995)</td>\n",
              "      <td>Comedy</td>\n",
              "    </tr>\n",
              "  </tbody>\n",
              "</table>\n",
              "</div>"
            ],
            "text/plain": [
              "                                      title                                       genres\n",
              "movieId                                                                                 \n",
              "1                          Toy Story (1995)  Adventure|Animation|Children|Comedy|Fantasy\n",
              "2                            Jumanji (1995)                   Adventure|Children|Fantasy\n",
              "3                   Grumpier Old Men (1995)                               Comedy|Romance\n",
              "4                  Waiting to Exhale (1995)                         Comedy|Drama|Romance\n",
              "5        Father of the Bride Part II (1995)                                       Comedy"
            ]
          },
          "metadata": {
            "tags": []
          },
          "execution_count": 5
        }
      ]
    },
    {
      "cell_type": "markdown",
      "metadata": {
        "id": "agzrkxnjsuPo"
      },
      "source": [
        "## Dataset das notas"
      ]
    },
    {
      "cell_type": "code",
      "metadata": {
        "colab": {
          "base_uri": "https://localhost:8080/",
          "height": 204
        },
        "id": "yocRKEkusuPo",
        "outputId": "040a84f5-0970-4d8a-e33d-df70b98e98b0"
      },
      "source": [
        "ratings = pd.read_csv('https://raw.githubusercontent.com/adriano06-tech/algoritmo_de_recomendacao_de_filmes/main/data/movielens/ratings.csv')\n",
        "ratings.head()"
      ],
      "execution_count": 6,
      "outputs": [
        {
          "output_type": "execute_result",
          "data": {
            "text/html": [
              "<div>\n",
              "<style scoped>\n",
              "    .dataframe tbody tr th:only-of-type {\n",
              "        vertical-align: middle;\n",
              "    }\n",
              "\n",
              "    .dataframe tbody tr th {\n",
              "        vertical-align: top;\n",
              "    }\n",
              "\n",
              "    .dataframe thead th {\n",
              "        text-align: right;\n",
              "    }\n",
              "</style>\n",
              "<table border=\"1\" class=\"dataframe\">\n",
              "  <thead>\n",
              "    <tr style=\"text-align: right;\">\n",
              "      <th></th>\n",
              "      <th>userId</th>\n",
              "      <th>movieId</th>\n",
              "      <th>rating</th>\n",
              "      <th>timestamp</th>\n",
              "    </tr>\n",
              "  </thead>\n",
              "  <tbody>\n",
              "    <tr>\n",
              "      <th>0</th>\n",
              "      <td>1</td>\n",
              "      <td>1</td>\n",
              "      <td>4.0</td>\n",
              "      <td>964982703</td>\n",
              "    </tr>\n",
              "    <tr>\n",
              "      <th>1</th>\n",
              "      <td>1</td>\n",
              "      <td>3</td>\n",
              "      <td>4.0</td>\n",
              "      <td>964981247</td>\n",
              "    </tr>\n",
              "    <tr>\n",
              "      <th>2</th>\n",
              "      <td>1</td>\n",
              "      <td>6</td>\n",
              "      <td>4.0</td>\n",
              "      <td>964982224</td>\n",
              "    </tr>\n",
              "    <tr>\n",
              "      <th>3</th>\n",
              "      <td>1</td>\n",
              "      <td>47</td>\n",
              "      <td>5.0</td>\n",
              "      <td>964983815</td>\n",
              "    </tr>\n",
              "    <tr>\n",
              "      <th>4</th>\n",
              "      <td>1</td>\n",
              "      <td>50</td>\n",
              "      <td>5.0</td>\n",
              "      <td>964982931</td>\n",
              "    </tr>\n",
              "  </tbody>\n",
              "</table>\n",
              "</div>"
            ],
            "text/plain": [
              "   userId  movieId  rating  timestamp\n",
              "0       1        1     4.0  964982703\n",
              "1       1        3     4.0  964981247\n",
              "2       1        6     4.0  964982224\n",
              "3       1       47     5.0  964983815\n",
              "4       1       50     5.0  964982931"
            ]
          },
          "metadata": {
            "tags": []
          },
          "execution_count": 6
        }
      ]
    },
    {
      "cell_type": "code",
      "metadata": {
        "colab": {
          "base_uri": "https://localhost:8080/"
        },
        "id": "YyQZb663suPp",
        "outputId": "fa95090d-1ad3-4753-da7d-15e6d9e55285"
      },
      "source": [
        "print(f'Temos {ratings.shape[0]} linhas e {ratings.shape[1]} colunas')"
      ],
      "execution_count": 7,
      "outputs": [
        {
          "output_type": "stream",
          "text": [
            "Temos 100836 linhas e 4 colunas\n"
          ],
          "name": "stdout"
        }
      ]
    },
    {
      "cell_type": "code",
      "metadata": {
        "colab": {
          "base_uri": "https://localhost:8080/"
        },
        "id": "Gvnd-e9SsuPp",
        "outputId": "da49ea9f-e293-4bec-e531-6898fd7f6359"
      },
      "source": [
        "print(f'Temos {ratings.isna().sum().sum()} dados nulos')"
      ],
      "execution_count": 8,
      "outputs": [
        {
          "output_type": "stream",
          "text": [
            "Temos 0 dados nulos\n"
          ],
          "name": "stdout"
        }
      ]
    },
    {
      "cell_type": "markdown",
      "metadata": {
        "id": "HXQeAXo7suPq"
      },
      "source": [
        "# Juntando os dados dos filmes e as notas"
      ]
    },
    {
      "cell_type": "code",
      "metadata": {
        "colab": {
          "base_uri": "https://localhost:8080/",
          "height": 235
        },
        "id": "vUYzuIg0suPq",
        "outputId": "12817c18-6054-4533-ef5a-acdbf41278a7"
      },
      "source": [
        "movie_ratings = ratings.groupby('movieId').agg(['mean', 'count'])['rating']\n",
        "movie_ratings.columns = ['rating', 'n_ratings']\n",
        "movie_ratings.head()"
      ],
      "execution_count": 9,
      "outputs": [
        {
          "output_type": "execute_result",
          "data": {
            "text/html": [
              "<div>\n",
              "<style scoped>\n",
              "    .dataframe tbody tr th:only-of-type {\n",
              "        vertical-align: middle;\n",
              "    }\n",
              "\n",
              "    .dataframe tbody tr th {\n",
              "        vertical-align: top;\n",
              "    }\n",
              "\n",
              "    .dataframe thead th {\n",
              "        text-align: right;\n",
              "    }\n",
              "</style>\n",
              "<table border=\"1\" class=\"dataframe\">\n",
              "  <thead>\n",
              "    <tr style=\"text-align: right;\">\n",
              "      <th></th>\n",
              "      <th>rating</th>\n",
              "      <th>n_ratings</th>\n",
              "    </tr>\n",
              "    <tr>\n",
              "      <th>movieId</th>\n",
              "      <th></th>\n",
              "      <th></th>\n",
              "    </tr>\n",
              "  </thead>\n",
              "  <tbody>\n",
              "    <tr>\n",
              "      <th>1</th>\n",
              "      <td>3.920930</td>\n",
              "      <td>215</td>\n",
              "    </tr>\n",
              "    <tr>\n",
              "      <th>2</th>\n",
              "      <td>3.431818</td>\n",
              "      <td>110</td>\n",
              "    </tr>\n",
              "    <tr>\n",
              "      <th>3</th>\n",
              "      <td>3.259615</td>\n",
              "      <td>52</td>\n",
              "    </tr>\n",
              "    <tr>\n",
              "      <th>4</th>\n",
              "      <td>2.357143</td>\n",
              "      <td>7</td>\n",
              "    </tr>\n",
              "    <tr>\n",
              "      <th>5</th>\n",
              "      <td>3.071429</td>\n",
              "      <td>49</td>\n",
              "    </tr>\n",
              "  </tbody>\n",
              "</table>\n",
              "</div>"
            ],
            "text/plain": [
              "           rating  n_ratings\n",
              "movieId                     \n",
              "1        3.920930        215\n",
              "2        3.431818        110\n",
              "3        3.259615         52\n",
              "4        2.357143          7\n",
              "5        3.071429         49"
            ]
          },
          "metadata": {
            "tags": []
          },
          "execution_count": 9
        }
      ]
    },
    {
      "cell_type": "code",
      "metadata": {
        "colab": {
          "base_uri": "https://localhost:8080/",
          "height": 235
        },
        "id": "H4JH6abksuPr",
        "outputId": "fa032d09-4d91-4d2f-b121-42df272df3c0"
      },
      "source": [
        "movies = movies.join(movie_ratings)\n",
        "movies.head()"
      ],
      "execution_count": 10,
      "outputs": [
        {
          "output_type": "execute_result",
          "data": {
            "text/html": [
              "<div>\n",
              "<style scoped>\n",
              "    .dataframe tbody tr th:only-of-type {\n",
              "        vertical-align: middle;\n",
              "    }\n",
              "\n",
              "    .dataframe tbody tr th {\n",
              "        vertical-align: top;\n",
              "    }\n",
              "\n",
              "    .dataframe thead th {\n",
              "        text-align: right;\n",
              "    }\n",
              "</style>\n",
              "<table border=\"1\" class=\"dataframe\">\n",
              "  <thead>\n",
              "    <tr style=\"text-align: right;\">\n",
              "      <th></th>\n",
              "      <th>title</th>\n",
              "      <th>genres</th>\n",
              "      <th>rating</th>\n",
              "      <th>n_ratings</th>\n",
              "    </tr>\n",
              "    <tr>\n",
              "      <th>movieId</th>\n",
              "      <th></th>\n",
              "      <th></th>\n",
              "      <th></th>\n",
              "      <th></th>\n",
              "    </tr>\n",
              "  </thead>\n",
              "  <tbody>\n",
              "    <tr>\n",
              "      <th>1</th>\n",
              "      <td>Toy Story (1995)</td>\n",
              "      <td>Adventure|Animation|Children|Comedy|Fantasy</td>\n",
              "      <td>3.920930</td>\n",
              "      <td>215.0</td>\n",
              "    </tr>\n",
              "    <tr>\n",
              "      <th>2</th>\n",
              "      <td>Jumanji (1995)</td>\n",
              "      <td>Adventure|Children|Fantasy</td>\n",
              "      <td>3.431818</td>\n",
              "      <td>110.0</td>\n",
              "    </tr>\n",
              "    <tr>\n",
              "      <th>3</th>\n",
              "      <td>Grumpier Old Men (1995)</td>\n",
              "      <td>Comedy|Romance</td>\n",
              "      <td>3.259615</td>\n",
              "      <td>52.0</td>\n",
              "    </tr>\n",
              "    <tr>\n",
              "      <th>4</th>\n",
              "      <td>Waiting to Exhale (1995)</td>\n",
              "      <td>Comedy|Drama|Romance</td>\n",
              "      <td>2.357143</td>\n",
              "      <td>7.0</td>\n",
              "    </tr>\n",
              "    <tr>\n",
              "      <th>5</th>\n",
              "      <td>Father of the Bride Part II (1995)</td>\n",
              "      <td>Comedy</td>\n",
              "      <td>3.071429</td>\n",
              "      <td>49.0</td>\n",
              "    </tr>\n",
              "  </tbody>\n",
              "</table>\n",
              "</div>"
            ],
            "text/plain": [
              "                                      title  ... n_ratings\n",
              "movieId                                      ...          \n",
              "1                          Toy Story (1995)  ...     215.0\n",
              "2                            Jumanji (1995)  ...     110.0\n",
              "3                   Grumpier Old Men (1995)  ...      52.0\n",
              "4                  Waiting to Exhale (1995)  ...       7.0\n",
              "5        Father of the Bride Part II (1995)  ...      49.0\n",
              "\n",
              "[5 rows x 4 columns]"
            ]
          },
          "metadata": {
            "tags": []
          },
          "execution_count": 10
        }
      ]
    },
    {
      "cell_type": "markdown",
      "metadata": {
        "id": "j_O9jId3suPr"
      },
      "source": [
        "# Explorando os dados juntados"
      ]
    },
    {
      "cell_type": "markdown",
      "metadata": {
        "id": "vkzsGwHXsuPs"
      },
      "source": [
        "## Notas"
      ]
    },
    {
      "cell_type": "code",
      "metadata": {
        "colab": {
          "base_uri": "https://localhost:8080/",
          "height": 523
        },
        "id": "gMm4JQR2suPs",
        "outputId": "14a10f0b-c427-4e00-c3a1-909ba651ddb6"
      },
      "source": [
        "palette = sns.dark_palette(\"#69d\", reverse=True)\n",
        "\n",
        "ax = sns.histplot(\n",
        "    x = 'rating',\n",
        "    kde = True,\n",
        "    color = palette[0],\n",
        "    data = movies\n",
        ")\n",
        "ax.set_title('Distribuição das avaliações dos filmes', fontsize = 18, loc = 'left')\n",
        "ax.set_xlabel('Avaliações', fontsize = 14)\n",
        "ax.set_ylabel('Frequência', fontsize=  14)\n",
        "ax.figure.set_size_inches(16, 8)\n",
        "ax = ax"
      ],
      "execution_count": 16,
      "outputs": [
        {
          "output_type": "display_data",
          "data": {
            "image/png": "[encoded data removed]",
            "text/plain": [
              "<Figure size 1152x576 with 1 Axes>"
            ]
          },
          "metadata": {
            "tags": [],
            "needs_background": "light"
          }
        }
      ]
    },
    {
      "cell_type": "markdown",
      "metadata": {
        "id": "UV7YgHtLsuPt"
      },
      "source": [
        "## Quantidade de avaliações"
      ]
    },
    {
      "cell_type": "code",
      "metadata": {
        "colab": {
          "base_uri": "https://localhost:8080/",
          "height": 523
        },
        "id": "Y0VqovZSsuPu",
        "outputId": "4425ff14-1750-4034-ceb3-fd0abc79ef75"
      },
      "source": [
        "ax = sns.histplot(\n",
        "    x = 'n_ratings',\n",
        "    kde = True,\n",
        "    color = palette[0],\n",
        "    data = movies\n",
        ")\n",
        "ax.set_title('Distribuição da quantidade de avaliações dos filmes', fontsize = 18, loc = 'left')\n",
        "ax.set_ylabel('Frequência', fontsize = 14)\n",
        "ax.set_xlabel('Quantidade de avaliações', fontsize = 14)\n",
        "ax.figure.set_size_inches(16, 8)\n",
        "ax = ax"
      ],
      "execution_count": 17,
      "outputs": [
        {
          "output_type": "display_data",
          "data": {
            "image/png": "[encoded data removed]",
            "text/plain": [
              "<Figure size 1152x576 with 1 Axes>"
            ]
          },
          "metadata": {
            "tags": [],
            "needs_background": "light"
          }
        }
      ]
    },
    {
      "cell_type": "markdown",
      "metadata": {
        "id": "Hb6LaDzLsuPv"
      },
      "source": [
        "Percebemos que muitos filmes tem poucas avaliações"
      ]
    },
    {
      "cell_type": "markdown",
      "metadata": {
        "id": "axq-PSiHsuPv"
      },
      "source": [
        "# Entendendo como funcionará o nosso algoritmo"
      ]
    },
    {
      "cell_type": "markdown",
      "metadata": {
        "id": "ammVs6Q4suPv"
      },
      "source": [
        "<h3 style=\"font-weight: bold;\">Vamos supor dois usuários do nosso sistema:</h3><br>\n",
        "<p>João deu nota 5 para o Toy Story e 3.5 para Deadpool</p>\n",
        "<p>Maria, por outro lado, deu nota 3 para o Toy Story e 4 para o Deadpool</p>"
      ]
    },
    {
      "cell_type": "code",
      "metadata": {
        "colab": {
          "base_uri": "https://localhost:8080/",
          "height": 525
        },
        "id": "my6dlnk2suPw",
        "outputId": "90520b23-9e09-4912-ff2d-f8f2c4ca7b3f"
      },
      "source": [
        "joao = [5, 3.5]\n",
        "maria = [3, 4]\n",
        "plt.figure(figsize = (16, 8))\n",
        "plt.plot(joao[0], joao[1], marker = 'o', color = 'blue', markersize = 10)\n",
        "plt.annotate('João', xy = (joao[0] - 0.05, joao[1] + 0.03), fontsize = 14)\n",
        "plt.plot(maria[0], maria[1], marker = 'o', color = 'red', markersize = 10)\n",
        "plt.annotate('Maria', xy = (maria[0] + 0.03, maria[1] - 0.01), fontsize = 14)\n",
        "\n",
        "plt.legend(['João', 'Maria'], title = 'Usuários')\n",
        "plt.title('Vizualização das avaliações de cada usuário', fontsize = 18, loc = 'left')\n",
        "plt.xlabel('Nota para o Toy Story', fontsize = 16)\n",
        "plt.ylabel('Nota para o Deadpool', fontsize = 16)\n",
        "plt.show()"
      ],
      "execution_count": 20,
      "outputs": [
        {
          "output_type": "display_data",
          "data": {
            "image/png": "[encoded data removed]",
            "text/plain": [
              "<Figure size 1152x576 with 1 Axes>"
            ]
          },
          "metadata": {
            "tags": [],
            "needs_background": "light"
          }
        }
      ]
    },
    {
      "cell_type": "markdown",
      "metadata": {
        "id": "stFnTWhRsuPw"
      },
      "source": [
        "Agora, queremos descobrir a distância entre a Maria e o João"
      ]
    },
    {
      "cell_type": "code",
      "metadata": {
        "colab": {
          "base_uri": "https://localhost:8080/",
          "height": 525
        },
        "id": "TBVqWyjrsuPx",
        "outputId": "ee07977b-997a-4488-cae0-7593f824fb87"
      },
      "source": [
        "joao = [5, 3.5]\n",
        "maria = [3, 4]\n",
        "\n",
        "plt.figure(figsize = (16, 8))\n",
        "plt.plot(joao[0], joao[1], marker = 'o', color = 'blue', markersize = 10)\n",
        "plt.annotate('João', xy = (joao[0] - 0.05, joao[1] + 0.03), fontsize = 14)\n",
        "plt.plot(maria[0], maria[1], marker = 'o', color = 'red', markersize = 10)\n",
        "plt.annotate('Maria', xy = (maria[0] + 0.035, maria[1] - 0.01), fontsize = 14)\n",
        "plt.legend(['João', 'Maria'], title = 'Usuários')\n",
        "\n",
        "\n",
        "plt.plot([maria[0], joao[0]], [maria[1], joao[1]], color = 'yellow')\n",
        "plt.annotate('Distância dos usuários', xy = (3.9, 3.7), rotation = -28, fontsize = 15)\n",
        "\n",
        "plt.title('Vizualização das avaliações de cada usuário', fontsize = 18, loc = 'left')\n",
        "plt.xlabel('Nota para o Toy Story', fontsize = 16)\n",
        "plt.ylabel('Nota para o Deadpool', fontsize = 16)\n",
        "plt.show()"
      ],
      "execution_count": 22,
      "outputs": [
        {
          "output_type": "display_data",
          "data": {
            "image/png": "[encoded data removed]",
            "text/plain": [
              "<Figure size 1152x576 with 1 Axes>"
            ]
          },
          "metadata": {
            "tags": [],
            "needs_background": "light"
          }
        }
      ]
    },
    {
      "cell_type": "markdown",
      "metadata": {
        "id": "UwA9WS6dsuPy"
      },
      "source": [
        "Agora que conseguimos entender melhor a ideia, precisamos descobrir como calcular essa distância. A forma que utilizaremos será a da distância euclideana."
      ]
    },
    {
      "cell_type": "code",
      "metadata": {
        "colab": {
          "base_uri": "https://localhost:8080/",
          "height": 524
        },
        "id": "evHU1guIsuPy",
        "outputId": "bb4fc7da-b52f-4d81-8580-e6f29b1d4289"
      },
      "source": [
        "joao = [5, 3.5]\n",
        "maria = [3, 4]\n",
        "\n",
        "plt.figure(figsize = (16, 8))\n",
        "plt.plot(joao[0], joao[1], marker = 'o', color = 'blue', markersize = 10)\n",
        "plt.annotate('João', xy = (joao[0] - 0.05, joao[1] + 0.03), fontsize = 14)\n",
        "plt.plot(maria[0], maria[1], marker = 'o', color = 'red', markersize = 10)\n",
        "plt.annotate('Maria', xy = (maria[0] + 0.035, maria[1] - 0.01), fontsize = 14)\n",
        "plt.legend(['João', 'Maria'], title = 'Usuários')\n",
        "\n",
        "\n",
        "plt.plot([maria[0], joao[0]], [maria[1], joao[1]], color = 'orange')\n",
        "plt.annotate('Distância dos usuários', xy = (3.9, 3.7), rotation = -28, fontsize = 15)\n",
        "\n",
        "plt.plot([maria[0], joao[0]], [joao[1], joao[1]], color = 'yellow')\n",
        "plt.annotate(f'O tamanho desse lado é {abs(maria[0] - joao[0])}', xy = (3.5, 3.55), fontsize = 20)\n",
        "plt.plot([maria[0], maria[0]], [joao[1], maria[1]], color = 'yellow')\n",
        "plt.annotate(f'O tamanho desse lado é {abs(maria[1] - joao[1])}', xy = (3.1, 3.55), fontsize = 18, rotation = -90)\n",
        "\n",
        "plt.title('Cálculo da distância dos usuários', fontsize = 18, loc = 'left')\n",
        "plt.xlabel('Nota para o Toy Story', fontsize = 16)\n",
        "plt.ylabel('Nota para o Deadpool', fontsize = 16)\n",
        "plt.show()"
      ],
      "execution_count": 23,
      "outputs": [
        {
          "output_type": "display_data",
          "data": {
            "image/png": "[encoded data removed]",
            "text/plain": [
              "<Figure size 1152x576 with 1 Axes>"
            ]
          },
          "metadata": {
            "tags": [],
            "needs_background": "light"
          }
        }
      ]
    },
    {
      "cell_type": "markdown",
      "metadata": {
        "id": "BTSdpv35suPz"
      },
      "source": [
        "E como Pitágoras já nos mostrou, a hipotenusa ao quadrado é igual a soma dos quadrados dos catetos."
      ]
    },
    {
      "cell_type": "code",
      "metadata": {
        "colab": {
          "base_uri": "https://localhost:8080/"
        },
        "id": "1qK8RuaOsuPz",
        "outputId": "941c5d61-af46-4515-d421-d785c930a144"
      },
      "source": [
        "distancia_dos_usuarios_ao_quadrado = (0.5 ** 2) + (2 ** 2)\n",
        "distancia_dos_usuarios = np.sqrt(distancia_dos_usuarios_ao_quadrado)\n",
        "print(f'A distância de Maria e João é de {round(distancia_dos_usuarios, 2)}')"
      ],
      "execution_count": 24,
      "outputs": [
        {
          "output_type": "stream",
          "text": [
            "A distância de Maria e João é de 2.06\n"
          ],
          "name": "stdout"
        }
      ]
    },
    {
      "cell_type": "markdown",
      "metadata": {
        "id": "C3ZCqWQ-suP0"
      },
      "source": [
        "Agora vamos vizualizar essa distância em um gráfico"
      ]
    },
    {
      "cell_type": "code",
      "metadata": {
        "colab": {
          "base_uri": "https://localhost:8080/",
          "height": 524
        },
        "id": "uXBgg5OPsuP0",
        "outputId": "a35b0bcd-de49-4858-8e1a-5277c74b2a96"
      },
      "source": [
        "joao = [5, 3.5]\n",
        "maria = [3, 4]\n",
        "\n",
        "plt.figure(figsize = (16, 8))\n",
        "plt.plot(joao[0], joao[1], marker = 'o', color = 'blue', markersize = 10)\n",
        "plt.annotate('João', xy = (joao[0] - 0.05, joao[1] + 0.03), fontsize = 14)\n",
        "plt.plot(maria[0], maria[1], marker = 'o', color = 'red', markersize = 10)\n",
        "plt.annotate('Maria', xy = (maria[0] + 0.035, maria[1] - 0.01), fontsize = 14)\n",
        "plt.legend(['João', 'Maria'], title = 'Usuários')\n",
        "\n",
        "\n",
        "plt.plot([maria[0], joao[0]], [maria[1], joao[1]], color = 'orange')\n",
        "plt.annotate(\n",
        "    f'A distância dos dois usuários é de {round(distancia_dos_usuarios, 2)}',\n",
        "    xy = (3.75, 3.7),\n",
        "    rotation = -28,\n",
        "    fontsize = 18\n",
        ")\n",
        "\n",
        "plt.plot([maria[0], joao[0]], [joao[1], joao[1]], color = 'yellow')\n",
        "plt.annotate(f'O tamanho desse lado é {abs(maria[0] - joao[0])}', xy = (3.5, 3.55), fontsize = 20)\n",
        "plt.plot([maria[0], maria[0]], [joao[1], maria[1]], color = 'yellow')\n",
        "plt.annotate(f'O tamanho desse lado é {abs(maria[1] - joao[1])}', xy = (3.1, 3.55), fontsize = 18, rotation = -90)\n",
        "\n",
        "plt.title('Cálculo da distância dos usuários', fontsize = 18, loc = 'left')\n",
        "plt.xlabel('Nota para o Toy Story', fontsize = 16)\n",
        "plt.ylabel('Nota para o Deadpool', fontsize = 16)\n",
        "plt.show()"
      ],
      "execution_count": 26,
      "outputs": [
        {
          "output_type": "display_data",
          "data": {
            "image/png": "[encoded data removed]",
            "text/plain": [
              "<Figure size 1152x576 with 1 Axes>"
            ]
          },
          "metadata": {
            "tags": [],
            "needs_background": "light"
          }
        }
      ]
    },
    {
      "cell_type": "markdown",
      "metadata": {
        "id": "xs17zSPJsuP1"
      },
      "source": [
        "Sabendo disso nós calcularemos as distâncias para todos os usuários e encontraremos os mais similares"
      ]
    },
    {
      "cell_type": "markdown",
      "metadata": {
        "id": "gb4AjxWSsuP2"
      },
      "source": [
        "# Começando a encontrar usuários similares"
      ]
    },
    {
      "cell_type": "markdown",
      "metadata": {
        "id": "m7oLDu9ysuP2"
      },
      "source": [
        "Para isso, primeiramente precisaremos criar algum jeito de pegar as avaliações de cada usuário. Para isso criaremos uma função."
      ]
    },
    {
      "cell_type": "code",
      "metadata": {
        "colab": {
          "base_uri": "https://localhost:8080/",
          "height": 235
        },
        "id": "2bBhXWpfsuP3",
        "outputId": "2eed05f5-741d-433c-d8ac-114df3ccb960"
      },
      "source": [
        "def get_users_ratings(user_id):\n",
        "    user_ratings = ratings.query('userId == @user_id')\n",
        "    user_ratings.set_index('movieId', inplace = True)\n",
        "    return user_ratings\n",
        "    \n",
        "get_users_ratings(1).head()"
      ],
      "execution_count": 27,
      "outputs": [
        {
          "output_type": "execute_result",
          "data": {
            "text/html": [
              "<div>\n",
              "<style scoped>\n",
              "    .dataframe tbody tr th:only-of-type {\n",
              "        vertical-align: middle;\n",
              "    }\n",
              "\n",
              "    .dataframe tbody tr th {\n",
              "        vertical-align: top;\n",
              "    }\n",
              "\n",
              "    .dataframe thead th {\n",
              "        text-align: right;\n",
              "    }\n",
              "</style>\n",
              "<table border=\"1\" class=\"dataframe\">\n",
              "  <thead>\n",
              "    <tr style=\"text-align: right;\">\n",
              "      <th></th>\n",
              "      <th>userId</th>\n",
              "      <th>rating</th>\n",
              "      <th>timestamp</th>\n",
              "    </tr>\n",
              "    <tr>\n",
              "      <th>movieId</th>\n",
              "      <th></th>\n",
              "      <th></th>\n",
              "      <th></th>\n",
              "    </tr>\n",
              "  </thead>\n",
              "  <tbody>\n",
              "    <tr>\n",
              "      <th>1</th>\n",
              "      <td>1</td>\n",
              "      <td>4.0</td>\n",
              "      <td>964982703</td>\n",
              "    </tr>\n",
              "    <tr>\n",
              "      <th>3</th>\n",
              "      <td>1</td>\n",
              "      <td>4.0</td>\n",
              "      <td>964981247</td>\n",
              "    </tr>\n",
              "    <tr>\n",
              "      <th>6</th>\n",
              "      <td>1</td>\n",
              "      <td>4.0</td>\n",
              "      <td>964982224</td>\n",
              "    </tr>\n",
              "    <tr>\n",
              "      <th>47</th>\n",
              "      <td>1</td>\n",
              "      <td>5.0</td>\n",
              "      <td>964983815</td>\n",
              "    </tr>\n",
              "    <tr>\n",
              "      <th>50</th>\n",
              "      <td>1</td>\n",
              "      <td>5.0</td>\n",
              "      <td>964982931</td>\n",
              "    </tr>\n",
              "  </tbody>\n",
              "</table>\n",
              "</div>"
            ],
            "text/plain": [
              "         userId  rating  timestamp\n",
              "movieId                           \n",
              "1             1     4.0  964982703\n",
              "3             1     4.0  964981247\n",
              "6             1     4.0  964982224\n",
              "47            1     5.0  964983815\n",
              "50            1     5.0  964982931"
            ]
          },
          "metadata": {
            "tags": []
          },
          "execution_count": 27
        }
      ]
    },
    {
      "cell_type": "markdown",
      "metadata": {
        "id": "LRmgNKB4suP3"
      },
      "source": [
        "Agora criaremos outra função que junte a nota de dois usuários"
      ]
    },
    {
      "cell_type": "code",
      "metadata": {
        "colab": {
          "base_uri": "https://localhost:8080/",
          "height": 142
        },
        "id": "mWR4O9PNsuP4",
        "outputId": "1b3cbb0e-d4ea-4e3c-c3a3-922256152914"
      },
      "source": [
        "def join_users_ratings(user_id1, user_id2):\n",
        "    user_ratings_1 = get_users_ratings(user_id1)\n",
        "    user_ratings_2 = get_users_ratings(user_id2)\n",
        "    \n",
        "    joined_users_ratings = user_ratings_1.join(user_ratings_2, lsuffix = '_1', rsuffix = '_2')\n",
        "    joined_users_ratings.dropna(inplace = True)\n",
        "    \n",
        "    return {\n",
        "        'n_similar_movies': len(joined_users_ratings),\n",
        "        'movies': joined_users_ratings.index,\n",
        "        'users_ratings': joined_users_ratings[['rating_1', 'rating_2']]\n",
        "    }\n",
        "    \n",
        "    \n",
        "join_users_ratings(1, 2)['users_ratings']"
      ],
      "execution_count": 28,
      "outputs": [
        {
          "output_type": "execute_result",
          "data": {
            "text/html": [
              "<div>\n",
              "<style scoped>\n",
              "    .dataframe tbody tr th:only-of-type {\n",
              "        vertical-align: middle;\n",
              "    }\n",
              "\n",
              "    .dataframe tbody tr th {\n",
              "        vertical-align: top;\n",
              "    }\n",
              "\n",
              "    .dataframe thead th {\n",
              "        text-align: right;\n",
              "    }\n",
              "</style>\n",
              "<table border=\"1\" class=\"dataframe\">\n",
              "  <thead>\n",
              "    <tr style=\"text-align: right;\">\n",
              "      <th></th>\n",
              "      <th>rating_1</th>\n",
              "      <th>rating_2</th>\n",
              "    </tr>\n",
              "    <tr>\n",
              "      <th>movieId</th>\n",
              "      <th></th>\n",
              "      <th></th>\n",
              "    </tr>\n",
              "  </thead>\n",
              "  <tbody>\n",
              "    <tr>\n",
              "      <th>333</th>\n",
              "      <td>5.0</td>\n",
              "      <td>4.0</td>\n",
              "    </tr>\n",
              "    <tr>\n",
              "      <th>3578</th>\n",
              "      <td>5.0</td>\n",
              "      <td>4.0</td>\n",
              "    </tr>\n",
              "  </tbody>\n",
              "</table>\n",
              "</div>"
            ],
            "text/plain": [
              "         rating_1  rating_2\n",
              "movieId                    \n",
              "333           5.0       4.0\n",
              "3578          5.0       4.0"
            ]
          },
          "metadata": {
            "tags": []
          },
          "execution_count": 28
        }
      ]
    },
    {
      "cell_type": "markdown",
      "metadata": {
        "id": "0FSw-xSVsuP4"
      },
      "source": [
        "Aproveitando essa outra função, criaremos uma outra fórmula que ache a distância entre dois usuários"
      ]
    },
    {
      "cell_type": "code",
      "metadata": {
        "colab": {
          "base_uri": "https://localhost:8080/"
        },
        "id": "FQyRkjUwsuP5",
        "outputId": "87cc4b74-6f8c-4f24-92b1-096766c97a32"
      },
      "source": [
        "def get_distance_between_users(user_id1, user_id2, n_necessary_similar_movies = 1):\n",
        "    users_ratings = join_users_ratings(user_id1, user_id2)\n",
        "    \n",
        "    # Verifica se os dois usuários tem filmes em comum o suficiente\n",
        "    if users_ratings['n_similar_movies'] < n_necessary_similar_movies:\n",
        "        return {\n",
        "            'n_similar_movies': users_ratings['n_similar_movies'],\n",
        "            'distance': None\n",
        "        }\n",
        "    \n",
        "    distance = np.linalg.norm(\n",
        "        users_ratings['users_ratings']['rating_1'] - users_ratings['users_ratings']['rating_2']\n",
        "    )\n",
        "    \n",
        "    return {\n",
        "        'n_similar_movies': users_ratings['n_similar_movies'],\n",
        "        'distance': distance\n",
        "    }\n",
        "\n",
        "get_distance_between_users(1, 2)"
      ],
      "execution_count": 29,
      "outputs": [
        {
          "output_type": "execute_result",
          "data": {
            "text/plain": [
              "{'distance': 1.4142135623730951, 'n_similar_movies': 2}"
            ]
          },
          "metadata": {
            "tags": []
          },
          "execution_count": 29
        }
      ]
    },
    {
      "cell_type": "markdown",
      "metadata": {
        "id": "d-lmqgP_suP5"
      },
      "source": [
        "Agora que já temos como calcular a distância entre dois usuários, vamos criar uma outra função que ache usuários similares a um único usuário"
      ]
    },
    {
      "cell_type": "code",
      "metadata": {
        "colab": {
          "base_uri": "https://localhost:8080/",
          "height": 204
        },
        "id": "8APqX6kssuP6",
        "outputId": "25e92d5b-860a-4895-ead1-576cd190332d"
      },
      "source": [
        "def get_similars_users(user_id, k_neighbors = None):\n",
        "    all_users = ratings['userId'].unique()\n",
        "    all_users = np.delete(all_users, [np.where(all_users == user_id)])\n",
        "    \n",
        "    if k_neighbors:\n",
        "        all_users = pd.DataFrame({'users': all_users}).sample(k_neighbors)\n",
        "        all_users = all_users['users'].values\n",
        "        \n",
        "    users_distances = []\n",
        "        \n",
        "    for other_user in all_users:\n",
        "        distance_stats = get_distance_between_users(user_id, other_user, 5)\n",
        "        users_distances.append({\n",
        "            'user_id': other_user,\n",
        "            'distance': distance_stats['distance'],\n",
        "            'n_similar_movies': distance_stats['n_similar_movies']\n",
        "        })\n",
        "        \n",
        "    users_distances = pd.DataFrame(users_distances)\n",
        "    users_distances = users_distances.sort_values(\n",
        "        ['distance', 'n_similar_movies'],\n",
        "        ascending = [True, False]\n",
        "    )\n",
        "    \n",
        "    return users_distances\n",
        "\n",
        "\n",
        "get_similars_users(1, 50).head()"
      ],
      "execution_count": 30,
      "outputs": [
        {
          "output_type": "execute_result",
          "data": {
            "text/html": [
              "<div>\n",
              "<style scoped>\n",
              "    .dataframe tbody tr th:only-of-type {\n",
              "        vertical-align: middle;\n",
              "    }\n",
              "\n",
              "    .dataframe tbody tr th {\n",
              "        vertical-align: top;\n",
              "    }\n",
              "\n",
              "    .dataframe thead th {\n",
              "        text-align: right;\n",
              "    }\n",
              "</style>\n",
              "<table border=\"1\" class=\"dataframe\">\n",
              "  <thead>\n",
              "    <tr style=\"text-align: right;\">\n",
              "      <th></th>\n",
              "      <th>user_id</th>\n",
              "      <th>distance</th>\n",
              "      <th>n_similar_movies</th>\n",
              "    </tr>\n",
              "  </thead>\n",
              "  <tbody>\n",
              "    <tr>\n",
              "      <th>24</th>\n",
              "      <td>319</td>\n",
              "      <td>1.118034</td>\n",
              "      <td>5</td>\n",
              "    </tr>\n",
              "    <tr>\n",
              "      <th>15</th>\n",
              "      <td>269</td>\n",
              "      <td>2.000000</td>\n",
              "      <td>7</td>\n",
              "    </tr>\n",
              "    <tr>\n",
              "      <th>35</th>\n",
              "      <td>26</td>\n",
              "      <td>2.236068</td>\n",
              "      <td>7</td>\n",
              "    </tr>\n",
              "    <tr>\n",
              "      <th>20</th>\n",
              "      <td>35</td>\n",
              "      <td>2.236068</td>\n",
              "      <td>6</td>\n",
              "    </tr>\n",
              "    <tr>\n",
              "      <th>7</th>\n",
              "      <td>535</td>\n",
              "      <td>2.449490</td>\n",
              "      <td>6</td>\n",
              "    </tr>\n",
              "  </tbody>\n",
              "</table>\n",
              "</div>"
            ],
            "text/plain": [
              "    user_id  distance  n_similar_movies\n",
              "24      319  1.118034                 5\n",
              "15      269  2.000000                 7\n",
              "35       26  2.236068                 7\n",
              "20       35  2.236068                 6\n",
              "7       535  2.449490                 6"
            ]
          },
          "metadata": {
            "tags": []
          },
          "execution_count": 30
        }
      ]
    },
    {
      "cell_type": "markdown",
      "metadata": {
        "id": "mhDad9rhsuP7"
      },
      "source": [
        "# Achando os filmes mais comuns entre os vizinhos"
      ]
    },
    {
      "cell_type": "code",
      "metadata": {
        "colab": {
          "base_uri": "https://localhost:8080/"
        },
        "id": "tYWAmLuvsuP7",
        "outputId": "b404b9e0-6337-4260-aa27-8770db79a647"
      },
      "source": [
        "def get_movies(user_id, k_neighbors = None, n_necessary_ratings = 5):\n",
        "    similar_users = get_similars_users(user_id, k_neighbors)\n",
        "    similar_ratings = []\n",
        "    \n",
        "    for other_user in similar_users['user_id']:\n",
        "        user_ratings = get_users_ratings(other_user)\n",
        "        similar_ratings.append(user_ratings)\n",
        "        \n",
        "    similar_ratings = pd.concat(similar_ratings)\n",
        "    similar_ratings = similar_ratings.join(\n",
        "        movies[['rating', 'n_ratings']],\n",
        "        lsuffix = '_user',\n",
        "        rsuffix = '_all_users'\n",
        "    )\n",
        "    \n",
        "    \n",
        "    similar_ratings = similar_ratings.reset_index().groupby('movieId').mean()\n",
        "    similar_ratings = similar_ratings[['rating_user', 'rating_all_users', 'n_ratings']]\n",
        "    \n",
        "    similar_ratings = similar_ratings.sort_values(\n",
        "        ['rating_user', 'rating_all_users'],\n",
        "        ascending = [False, False]\n",
        "    )\n",
        "    \n",
        "    similar_ratings = similar_ratings.query('n_ratings >= @n_necessary_ratings')\n",
        "    \n",
        "    return similar_ratings.index\n",
        "        \n",
        "get_movies(1, 5)"
      ],
      "execution_count": 31,
      "outputs": [
        {
          "output_type": "execute_result",
          "data": {
            "text/plain": [
              "Int64Index([ 1104,   318,   898,   176,   475,   858, 62336,   930,  3508,\n",
              "              912,\n",
              "            ...\n",
              "              355,  5804,  7117,  3826,  1972,  1644,  6951,  4158,  2392,\n",
              "             2422],\n",
              "           dtype='int64', name='movieId', length=416)"
            ]
          },
          "metadata": {
            "tags": []
          },
          "execution_count": 31
        }
      ]
    },
    {
      "cell_type": "markdown",
      "metadata": {
        "id": "FpEiNjEosuP8"
      },
      "source": [
        "Agora que achamos filmes recomendáveis, vamos criar uma função de sugestão de filmes"
      ]
    },
    {
      "cell_type": "code",
      "metadata": {
        "colab": {
          "base_uri": "https://localhost:8080/",
          "height": 235
        },
        "id": "3TXAJpc5suP8",
        "outputId": "981d60ef-03e2-45b2-831e-c6720204bdea"
      },
      "source": [
        "def suggest_movies(user_id, k_neighbors = None):\n",
        "    recomended_movies = get_movies(user_id, k_neighbors, 50)\n",
        "    recomended_movies = movies.loc[recomended_movies]\n",
        "    watched_movies = get_users_ratings(user_id).index\n",
        "    recomended_movies = recomended_movies.drop(watched_movies, errors = 'ignore')\n",
        "    \n",
        "    return recomended_movies\n",
        "\n",
        "\n",
        "suggest_movies(442, 100).head()"
      ],
      "execution_count": 32,
      "outputs": [
        {
          "output_type": "execute_result",
          "data": {
            "text/html": [
              "<div>\n",
              "<style scoped>\n",
              "    .dataframe tbody tr th:only-of-type {\n",
              "        vertical-align: middle;\n",
              "    }\n",
              "\n",
              "    .dataframe tbody tr th {\n",
              "        vertical-align: top;\n",
              "    }\n",
              "\n",
              "    .dataframe thead th {\n",
              "        text-align: right;\n",
              "    }\n",
              "</style>\n",
              "<table border=\"1\" class=\"dataframe\">\n",
              "  <thead>\n",
              "    <tr style=\"text-align: right;\">\n",
              "      <th></th>\n",
              "      <th>title</th>\n",
              "      <th>genres</th>\n",
              "      <th>rating</th>\n",
              "      <th>n_ratings</th>\n",
              "    </tr>\n",
              "    <tr>\n",
              "      <th>movieId</th>\n",
              "      <th></th>\n",
              "      <th></th>\n",
              "      <th></th>\n",
              "      <th></th>\n",
              "    </tr>\n",
              "  </thead>\n",
              "  <tbody>\n",
              "    <tr>\n",
              "      <th>2324</th>\n",
              "      <td>Life Is Beautiful (La Vita è bella) (1997)</td>\n",
              "      <td>Comedy|Drama|Romance|War</td>\n",
              "      <td>4.147727</td>\n",
              "      <td>88.0</td>\n",
              "    </tr>\n",
              "    <tr>\n",
              "      <th>923</th>\n",
              "      <td>Citizen Kane (1941)</td>\n",
              "      <td>Drama|Mystery</td>\n",
              "      <td>4.043478</td>\n",
              "      <td>69.0</td>\n",
              "    </tr>\n",
              "    <tr>\n",
              "      <th>1136</th>\n",
              "      <td>Monty Python and the Holy Grail (1975)</td>\n",
              "      <td>Adventure|Comedy|Fantasy</td>\n",
              "      <td>4.161765</td>\n",
              "      <td>136.0</td>\n",
              "    </tr>\n",
              "    <tr>\n",
              "      <th>318</th>\n",
              "      <td>Shawshank Redemption, The (1994)</td>\n",
              "      <td>Crime|Drama</td>\n",
              "      <td>4.429022</td>\n",
              "      <td>317.0</td>\n",
              "    </tr>\n",
              "    <tr>\n",
              "      <th>109487</th>\n",
              "      <td>Interstellar (2014)</td>\n",
              "      <td>Sci-Fi|IMAX</td>\n",
              "      <td>3.993151</td>\n",
              "      <td>73.0</td>\n",
              "    </tr>\n",
              "  </tbody>\n",
              "</table>\n",
              "</div>"
            ],
            "text/plain": [
              "                                              title  ... n_ratings\n",
              "movieId                                              ...          \n",
              "2324     Life Is Beautiful (La Vita è bella) (1997)  ...      88.0\n",
              "923                             Citizen Kane (1941)  ...      69.0\n",
              "1136         Monty Python and the Holy Grail (1975)  ...     136.0\n",
              "318                Shawshank Redemption, The (1994)  ...     317.0\n",
              "109487                          Interstellar (2014)  ...      73.0\n",
              "\n",
              "[5 rows x 4 columns]"
            ]
          },
          "metadata": {
            "tags": []
          },
          "execution_count": 32
        }
      ]
    },
    {
      "cell_type": "markdown",
      "metadata": {
        "id": "OfhoFFC5suP9"
      },
      "source": [
        "# Testando nosso algoritmo"
      ]
    },
    {
      "cell_type": "markdown",
      "metadata": {
        "id": "zHqyNl9xsuP9"
      },
      "source": [
        "## Criando o meu usuário"
      ]
    },
    {
      "cell_type": "code",
      "metadata": {
        "colab": {
          "base_uri": "https://localhost:8080/",
          "height": 204
        },
        "id": "g-LZ00qQsuP9",
        "outputId": "2ab2f3de-18d7-4e3b-c43d-cc469df467b6"
      },
      "source": [
        "user_ratings = [\n",
        "    {'movieId': 176601, 'rating': 4.0},\n",
        "    {'movieId': 527, 'rating': 5.0},\n",
        "    {'movieId': 117176, 'rating': 4.5},\n",
        "    {'movieId': 356, 'rating': 4.5},\n",
        "    {'movieId': 55721, 'rating': 4.5},\n",
        "    {'movieId': 174055, 'rating': 3.0}\n",
        "]\n",
        "\n",
        "user_ratings = pd.DataFrame(user_ratings)\n",
        "user_ratings['userId'] = ratings['userId'].max() + 1\n",
        "user_ratings['timestamp'] = 0\n",
        "\n",
        "ratings = pd.concat([ratings, user_ratings])\n",
        "ratings.tail()"
      ],
      "execution_count": 33,
      "outputs": [
        {
          "output_type": "execute_result",
          "data": {
            "text/html": [
              "<div>\n",
              "<style scoped>\n",
              "    .dataframe tbody tr th:only-of-type {\n",
              "        vertical-align: middle;\n",
              "    }\n",
              "\n",
              "    .dataframe tbody tr th {\n",
              "        vertical-align: top;\n",
              "    }\n",
              "\n",
              "    .dataframe thead th {\n",
              "        text-align: right;\n",
              "    }\n",
              "</style>\n",
              "<table border=\"1\" class=\"dataframe\">\n",
              "  <thead>\n",
              "    <tr style=\"text-align: right;\">\n",
              "      <th></th>\n",
              "      <th>userId</th>\n",
              "      <th>movieId</th>\n",
              "      <th>rating</th>\n",
              "      <th>timestamp</th>\n",
              "    </tr>\n",
              "  </thead>\n",
              "  <tbody>\n",
              "    <tr>\n",
              "      <th>1</th>\n",
              "      <td>611</td>\n",
              "      <td>527</td>\n",
              "      <td>5.0</td>\n",
              "      <td>0</td>\n",
              "    </tr>\n",
              "    <tr>\n",
              "      <th>2</th>\n",
              "      <td>611</td>\n",
              "      <td>117176</td>\n",
              "      <td>4.5</td>\n",
              "      <td>0</td>\n",
              "    </tr>\n",
              "    <tr>\n",
              "      <th>3</th>\n",
              "      <td>611</td>\n",
              "      <td>356</td>\n",
              "      <td>4.5</td>\n",
              "      <td>0</td>\n",
              "    </tr>\n",
              "    <tr>\n",
              "      <th>4</th>\n",
              "      <td>611</td>\n",
              "      <td>55721</td>\n",
              "      <td>4.5</td>\n",
              "      <td>0</td>\n",
              "    </tr>\n",
              "    <tr>\n",
              "      <th>5</th>\n",
              "      <td>611</td>\n",
              "      <td>174055</td>\n",
              "      <td>3.0</td>\n",
              "      <td>0</td>\n",
              "    </tr>\n",
              "  </tbody>\n",
              "</table>\n",
              "</div>"
            ],
            "text/plain": [
              "   userId  movieId  rating  timestamp\n",
              "1     611      527     5.0          0\n",
              "2     611   117176     4.5          0\n",
              "3     611      356     4.5          0\n",
              "4     611    55721     4.5          0\n",
              "5     611   174055     3.0          0"
            ]
          },
          "metadata": {
            "tags": []
          },
          "execution_count": 33
        }
      ]
    },
    {
      "cell_type": "code",
      "metadata": {
        "colab": {
          "base_uri": "https://localhost:8080/",
          "height": 235
        },
        "id": "PvEG1ZiCsuP-",
        "outputId": "368bc8e7-3c0a-471c-e3fd-a1b99fc17b6b"
      },
      "source": [
        "np.random.seed(SEED)\n",
        "suggest_movies(611).head()"
      ],
      "execution_count": 34,
      "outputs": [
        {
          "output_type": "execute_result",
          "data": {
            "text/html": [
              "<div>\n",
              "<style scoped>\n",
              "    .dataframe tbody tr th:only-of-type {\n",
              "        vertical-align: middle;\n",
              "    }\n",
              "\n",
              "    .dataframe tbody tr th {\n",
              "        vertical-align: top;\n",
              "    }\n",
              "\n",
              "    .dataframe thead th {\n",
              "        text-align: right;\n",
              "    }\n",
              "</style>\n",
              "<table border=\"1\" class=\"dataframe\">\n",
              "  <thead>\n",
              "    <tr style=\"text-align: right;\">\n",
              "      <th></th>\n",
              "      <th>title</th>\n",
              "      <th>genres</th>\n",
              "      <th>rating</th>\n",
              "      <th>n_ratings</th>\n",
              "    </tr>\n",
              "    <tr>\n",
              "      <th>movieId</th>\n",
              "      <th></th>\n",
              "      <th></th>\n",
              "      <th></th>\n",
              "      <th></th>\n",
              "    </tr>\n",
              "  </thead>\n",
              "  <tbody>\n",
              "    <tr>\n",
              "      <th>318</th>\n",
              "      <td>Shawshank Redemption, The (1994)</td>\n",
              "      <td>Crime|Drama</td>\n",
              "      <td>4.429022</td>\n",
              "      <td>317.0</td>\n",
              "    </tr>\n",
              "    <tr>\n",
              "      <th>858</th>\n",
              "      <td>Godfather, The (1972)</td>\n",
              "      <td>Crime|Drama</td>\n",
              "      <td>4.289062</td>\n",
              "      <td>192.0</td>\n",
              "    </tr>\n",
              "    <tr>\n",
              "      <th>2959</th>\n",
              "      <td>Fight Club (1999)</td>\n",
              "      <td>Action|Crime|Drama|Thriller</td>\n",
              "      <td>4.272936</td>\n",
              "      <td>218.0</td>\n",
              "    </tr>\n",
              "    <tr>\n",
              "      <th>1276</th>\n",
              "      <td>Cool Hand Luke (1967)</td>\n",
              "      <td>Drama</td>\n",
              "      <td>4.271930</td>\n",
              "      <td>57.0</td>\n",
              "    </tr>\n",
              "    <tr>\n",
              "      <th>750</th>\n",
              "      <td>Dr. Strangelove or: How I Learned to Stop Worr...</td>\n",
              "      <td>Comedy|War</td>\n",
              "      <td>4.268041</td>\n",
              "      <td>97.0</td>\n",
              "    </tr>\n",
              "  </tbody>\n",
              "</table>\n",
              "</div>"
            ],
            "text/plain": [
              "                                                     title  ... n_ratings\n",
              "movieId                                                     ...          \n",
              "318                       Shawshank Redemption, The (1994)  ...     317.0\n",
              "858                                  Godfather, The (1972)  ...     192.0\n",
              "2959                                     Fight Club (1999)  ...     218.0\n",
              "1276                                 Cool Hand Luke (1967)  ...      57.0\n",
              "750      Dr. Strangelove or: How I Learned to Stop Worr...  ...      97.0\n",
              "\n",
              "[5 rows x 4 columns]"
            ]
          },
          "metadata": {
            "tags": []
          },
          "execution_count": 34
        }
      ]
    },
    {
      "cell_type": "markdown",
      "metadata": {
        "id": "ntp64w67suP-"
      },
      "source": [
        "Os filmes recomendados eu precisaria ver depois para avaliar o algoritmo, mas parecem seguir o meu estilo de filmes que eu assistiria."
      ]
    },
    {
      "cell_type": "markdown",
      "metadata": {
        "id": "K4_YWr9DsuP_"
      },
      "source": [
        "## Separando por tempo"
      ]
    },
    {
      "cell_type": "markdown",
      "metadata": {
        "id": "gLDXoI0DsuP_"
      },
      "source": [
        "Para isso separaremos pelo \"timestamp\" as avaliações e depois checaremos se o usuário assistiu e gostou do filme recomendado"
      ]
    },
    {
      "cell_type": "code",
      "metadata": {
        "colab": {
          "base_uri": "https://localhost:8080/"
        },
        "id": "wxVh27AVsuP_",
        "outputId": "743d4018-0b2d-4864-c96b-6a2eb20c4fae"
      },
      "source": [
        "q3 = ratings['timestamp'].quantile(0.75)\n",
        "print(f'O terceiro quartio é de {q3}')"
      ],
      "execution_count": 35,
      "outputs": [
        {
          "output_type": "stream",
          "text": [
            "O terceiro quartio é de 1435994135.75\n"
          ],
          "name": "stdout"
        }
      ]
    },
    {
      "cell_type": "code",
      "metadata": {
        "colab": {
          "base_uri": "https://localhost:8080/"
        },
        "id": "wLnq0jRJsuQA",
        "outputId": "479742de-1dcc-4982-8114-32f39377aed9"
      },
      "source": [
        "select_before_q3 = ratings['timestamp'] < q3\n",
        "select_later_q3 = ratings['timestamp'] > q3\n",
        "test_ratings = ratings[select_later_q3]\n",
        "ratings = ratings[select_before_q3]\n",
        "\n",
        "print(f'Treinaremos com {len(ratings)} elementos e testaremos com {len(test_ratings)} elementos')"
      ],
      "execution_count": 36,
      "outputs": [
        {
          "output_type": "stream",
          "text": [
            "Treinaremos com 75631 elementos e testaremos com 25211 elementos\n"
          ],
          "name": "stdout"
        }
      ]
    },
    {
      "cell_type": "code",
      "metadata": {
        "colab": {
          "base_uri": "https://localhost:8080/"
        },
        "id": "gn6GOaE9suQA",
        "outputId": "6b89fc5d-c097-47c8-a236-7f8a4f556b3e"
      },
      "source": [
        "def test_user(user_id):\n",
        "    suggested_movies = list(suggest_movies(user_id, 50).index)\n",
        "    later_watched_movies = test_ratings.query('userId == @user_id')[['movieId', 'rating']].set_index('movieId')\n",
        "    accuracy_score = []\n",
        "    \n",
        "    for suggested_movie_id in suggested_movies:\n",
        "        if suggested_movie_id in later_watched_movies.index:\n",
        "            suggested_movie_avaliation = later_watched_movies.loc[suggested_movie_id]['rating']\n",
        "            accuracy_score.append(suggested_movie_avaliation / 5)\n",
        "            \n",
        "    return np.array(accuracy_score)\n",
        "\n",
        "print(f'A avaliação do nosso algoritmo com somente um usuário foi de {round(test_user(15).mean() * 100, 2)}%')"
      ],
      "execution_count": 37,
      "outputs": [
        {
          "output_type": "stream",
          "text": [
            "A avaliação do nosso algoritmo com somente um usuário foi de 72.34%\n"
          ],
          "name": "stdout"
        }
      ]
    },
    {
      "cell_type": "markdown",
      "metadata": {
        "id": "njj-0PYGsuQB"
      },
      "source": [
        "# Conclusão com um intervalo de confiança"
      ]
    },
    {
      "cell_type": "code",
      "metadata": {
        "colab": {
          "base_uri": "https://localhost:8080/"
        },
        "id": "rhr_gNlwsuQB",
        "outputId": "187f4b02-5cd2-4d51-c2a8-c54c21fec501"
      },
      "source": [
        "all_testable_users = set(list(ratings['userId'].unique()) + list(test_ratings['userId'].unique()))\n",
        "all_testable_users = [\n",
        "    user_id\n",
        "    for user_id in all_testable_users\n",
        "    if user_id in ratings['userId'].unique() and user_id in test_ratings['userId'].unique()\n",
        "]\n",
        "all_testable_users = np.array(all_testable_users)\n",
        "all_testable_users"
      ],
      "execution_count": 38,
      "outputs": [
        {
          "output_type": "execute_result",
          "data": {
            "text/plain": [
              "array([ 15,  21,  68, 103, 119, 177, 193, 249, 282, 292, 318, 326, 414,\n",
              "       443, 448, 462, 509, 522, 537])"
            ]
          },
          "metadata": {
            "tags": []
          },
          "execution_count": 38
        }
      ]
    },
    {
      "cell_type": "code",
      "metadata": {
        "colab": {
          "base_uri": "https://localhost:8080/"
        },
        "id": "OcZnzfrOsuQC",
        "outputId": "384df701-e68e-42f3-ddcf-ae3dc3b5afd2"
      },
      "source": [
        "from tqdm import tqdm\n",
        "\n",
        "algorithm_scores = []\n",
        "\n",
        "for user_id in tqdm(all_testable_users):\n",
        "    for i in test_user(user_id):\n",
        "        algorithm_scores.append(i)\n",
        "        \n",
        "algorithm_scores = np.array(algorithm_scores)\n",
        "    \n",
        "print(f'\\nOs usuários avaliaram os filmes recomendados em média com {round(algorithm_scores.mean() * 100, 2)}%')"
      ],
      "execution_count": 40,
      "outputs": [
        {
          "output_type": "stream",
          "text": [
            "100%|██████████| 19/19 [00:15<00:00,  1.23it/s]"
          ],
          "name": "stderr"
        },
        {
          "output_type": "stream",
          "text": [
            "\n",
            "Os usuários avaliaram os filmes recomendados em média com 74.15%\n"
          ],
          "name": "stdout"
        },
        {
          "output_type": "stream",
          "text": [
            "\n"
          ],
          "name": "stderr"
        }
      ]
    },
    {
      "cell_type": "code",
      "metadata": {
        "colab": {
          "base_uri": "https://localhost:8080/"
        },
        "id": "-j0LArZasuQC",
        "outputId": "f09ca6b6-4662-48ec-e7d2-e829e0e16b8b"
      },
      "source": [
        "from scipy.stats import norm\n",
        "significance = 0.05\n",
        "confiance = 1 - significance\n",
        "probability = (confiance / 2) + 0.5\n",
        "Z = norm.ppf(probability)\n",
        "n = len(algorithm_scores)\n",
        "std = algorithm_scores.std()\n",
        "mean = algorithm_scores.mean()\n",
        "sigma = std / np.sqrt(n)\n",
        "e = Z * sigma\n",
        "limits = (mean - e, mean + e)\n",
        "\n",
        "print(f'''A média de avaliação dos filmes sugeridos pelo nosso algoritmo foi de {round(mean * 100, 2)}%.\n",
        "Com 95% de confiança e 5% de significância, afirmamos que em produção, o nosso algoritmo teria uma \n",
        "taxa de acerto entre: ({round(limits[0] * 100, 2)}% e {round(limits[1] * 100, 2)}%).''')"
      ],
      "execution_count": 42,
      "outputs": [
        {
          "output_type": "stream",
          "text": [
            "A média de avaliação dos filmes sugeridos pelo nosso algoritmo foi de 74.15%.\n",
            "Com 95% de confiança e 5% de significância, afirmamos que em produção, o nosso algoritmo teria uma \n",
            "taxa de acerto entre: (72.12% e 76.18%).\n"
          ],
          "name": "stdout"
        }
      ]
    },
    {
      "cell_type": "code",
      "metadata": {
        "id": "btkIVKchuZvj"
      },
      "source": [
        ""
      ],
      "execution_count": null,
      "outputs": []
    }
  ]
}